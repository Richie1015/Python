{
 "cells": [
  {
   "cell_type": "code",
   "execution_count": null,
   "metadata": {
    "id": "B4CItUuA7F2B"
   },
   "outputs": [],
   "source": [
    "import requests\n",
    "import pandas as pd\n",
    "import io\n",
    "import time\n",
    "import datetime\n",
    "import numpy as np\n",
    "import json"
   ]
  },
  {
   "cell_type": "code",
   "execution_count": null,
   "metadata": {
    "id": "PR7YD6KM7kIz"
   },
   "outputs": [],
   "source": [
    "TWSE_list = pd.DataFrame()\n",
    "def Crawler_TWSE_List():\n",
    "  global TWSE_list\n",
    "  url = 'https://isin.twse.com.tw/isin/C_public.jsp?strMode=2'\n",
    "  page = requests.get(url)\n",
    "  TWSE_list = pd.read_html(page.text)[0]\n",
    "  TWSE_list.columns = TWSE_list.iloc[0]\n",
    "  end = 0\n",
    "  for i in range(0,len(TWSE_list)):\n",
    "    if (TWSE_list.at[i, '有價證券代號及名稱'][0:4] == '上市認購'):\n",
    "        end = i\n",
    "  TWSE_list = TWSE_list.iloc[2:end]\n",
    "  TWSE_list = TWSE_list[['有價證券代號及名稱', '國際證券辨識號碼(ISIN Code)']]\n",
    "  TWSE_list  = TWSE_list.rename(columns={'有價證券代號及名稱': 'Stockcode', '國際證券辨識號碼(ISIN Code)': 'Name'})\n",
    "  TWSE_list.reset_index(drop=True, inplace=True)\n",
    "  for i in range (0,len(TWSE_list)):\n",
    "    TWSE_list.at[i, 'Name'] = TWSE_list.at[i, 'Stockcode'][5:]\n",
    "    TWSE_list.at[i, 'Stockcode'] = TWSE_list.at[i, 'Stockcode'][0:4]"
   ]
  },
  {
   "cell_type": "code",
   "execution_count": null,
   "metadata": {
    "id": "7pYlTckz774u"
   },
   "outputs": [],
   "source": [
    "TPEx_list = pd.DataFrame()\n",
    "def Crawler_TPEx_List():\n",
    "  global TPEx_list\n",
    "  url = 'https://isin.twse.com.tw/isin/C_public.jsp?strMode=4'\n",
    "  page = requests.get(url)\n",
    "  TPEx_list = pd.read_html(page.text)[0]\n",
    "  TPEx_list.columns = TPEx_list.iloc[0]\n",
    "  start = 0\n",
    "  end = 0\n",
    "  for i in range(0,len(TPEx_list)):\n",
    "    if (TPEx_list.at[i, '有價證券代號及名稱'][0:4] == '股票'):\n",
    "        start = i+1\n",
    "    if (TPEx_list.at[i, '有價證券代號及名稱'][0:4] == '特別股'):\n",
    "        end = i\n",
    "  TPEx_list = TPEx_list.iloc[start:end]\n",
    "  TPEx_list = TPEx_list[['有價證券代號及名稱', '國際證券辨識號碼(ISIN Code)']]\n",
    "  TPEx_list = TPEx_list.rename(columns={'有價證券代號及名稱': 'Stockcode', '國際證券辨識號碼(ISIN Code)': 'Name'})\n",
    "  TPEx_list.reset_index(drop=True, inplace=True)\n",
    "  for i in range (0,len(TPEx_list)):\n",
    "    TPEx_list.at[i, 'Name'] = TPEx_list.at[i, 'Stockcode'][5:]\n",
    "    TPEx_list.at[i, 'Stockcode'] = TPEx_list.at[i, 'Stockcode'][0:4]"
   ]
  },
  {
   "cell_type": "code",
   "execution_count": 8,
   "metadata": {
    "colab": {
     "base_uri": "https://localhost:8080/",
     "height": 35
    },
    "id": "entEAjO0-4X8",
    "outputId": "9688b56c-25af-4d48-88bb-d907569760c7"
   },
   "outputs": [],
   "source": [
    "StockPrice_TWSE = pd.read_excel('Stock_TWSE.xlsx', header=[0,1], index_col=0)\n",
    "StockPrice_TPEx = pd.read_excel('Stock_TPEx.xlsx', header=[0,1], index_col=0)"
   ]
  },
  {
   "cell_type": "code",
   "execution_count": 17,
   "metadata": {},
   "outputs": [
    {
     "ename": "UnicodeDecodeError",
     "evalue": "'utf-8' codec can't decode byte 0xc1 in position 16: invalid start byte",
     "output_type": "error",
     "traceback": [
      "\u001b[1;31m---------------------------------------------------------------------------\u001b[0m",
      "\u001b[1;31mUnicodeDecodeError\u001b[0m                        Traceback (most recent call last)",
      "Cell \u001b[1;32mIn[17], line 1\u001b[0m\n\u001b[1;32m----> 1\u001b[0m StockPrice_TWSE \u001b[39m=\u001b[39m pd\u001b[39m.\u001b[39;49mread_csv(\u001b[39m'\u001b[39;49m\u001b[39mStock_TWSE.xlsx\u001b[39;49m\u001b[39m'\u001b[39;49m, header\u001b[39m=\u001b[39;49m[\u001b[39m0\u001b[39;49m,\u001b[39m1\u001b[39;49m], index_col\u001b[39m=\u001b[39;49m\u001b[39m0\u001b[39;49m)\n\u001b[0;32m      2\u001b[0m StockPrice_TPEx \u001b[39m=\u001b[39m pd\u001b[39m.\u001b[39mread_csv(\u001b[39m'\u001b[39m\u001b[39mStock_TPEx.xlsx\u001b[39m\u001b[39m'\u001b[39m, header\u001b[39m=\u001b[39m[\u001b[39m0\u001b[39m,\u001b[39m1\u001b[39m], index_col\u001b[39m=\u001b[39m\u001b[39m0\u001b[39m)\n",
      "File \u001b[1;32mc:\\Users\\Richie\\Documents\\Python\\.venv\\Lib\\site-packages\\pandas\\util\\_decorators.py:211\u001b[0m, in \u001b[0;36mdeprecate_kwarg.<locals>._deprecate_kwarg.<locals>.wrapper\u001b[1;34m(*args, **kwargs)\u001b[0m\n\u001b[0;32m    209\u001b[0m     \u001b[39melse\u001b[39;00m:\n\u001b[0;32m    210\u001b[0m         kwargs[new_arg_name] \u001b[39m=\u001b[39m new_arg_value\n\u001b[1;32m--> 211\u001b[0m \u001b[39mreturn\u001b[39;00m func(\u001b[39m*\u001b[39;49margs, \u001b[39m*\u001b[39;49m\u001b[39m*\u001b[39;49mkwargs)\n",
      "File \u001b[1;32mc:\\Users\\Richie\\Documents\\Python\\.venv\\Lib\\site-packages\\pandas\\util\\_decorators.py:331\u001b[0m, in \u001b[0;36mdeprecate_nonkeyword_arguments.<locals>.decorate.<locals>.wrapper\u001b[1;34m(*args, **kwargs)\u001b[0m\n\u001b[0;32m    325\u001b[0m \u001b[39mif\u001b[39;00m \u001b[39mlen\u001b[39m(args) \u001b[39m>\u001b[39m num_allow_args:\n\u001b[0;32m    326\u001b[0m     warnings\u001b[39m.\u001b[39mwarn(\n\u001b[0;32m    327\u001b[0m         msg\u001b[39m.\u001b[39mformat(arguments\u001b[39m=\u001b[39m_format_argument_list(allow_args)),\n\u001b[0;32m    328\u001b[0m         \u001b[39mFutureWarning\u001b[39;00m,\n\u001b[0;32m    329\u001b[0m         stacklevel\u001b[39m=\u001b[39mfind_stack_level(),\n\u001b[0;32m    330\u001b[0m     )\n\u001b[1;32m--> 331\u001b[0m \u001b[39mreturn\u001b[39;00m func(\u001b[39m*\u001b[39;49margs, \u001b[39m*\u001b[39;49m\u001b[39m*\u001b[39;49mkwargs)\n",
      "File \u001b[1;32mc:\\Users\\Richie\\Documents\\Python\\.venv\\Lib\\site-packages\\pandas\\io\\parsers\\readers.py:950\u001b[0m, in \u001b[0;36mread_csv\u001b[1;34m(filepath_or_buffer, sep, delimiter, header, names, index_col, usecols, squeeze, prefix, mangle_dupe_cols, dtype, engine, converters, true_values, false_values, skipinitialspace, skiprows, skipfooter, nrows, na_values, keep_default_na, na_filter, verbose, skip_blank_lines, parse_dates, infer_datetime_format, keep_date_col, date_parser, dayfirst, cache_dates, iterator, chunksize, compression, thousands, decimal, lineterminator, quotechar, quoting, doublequote, escapechar, comment, encoding, encoding_errors, dialect, error_bad_lines, warn_bad_lines, on_bad_lines, delim_whitespace, low_memory, memory_map, float_precision, storage_options)\u001b[0m\n\u001b[0;32m    935\u001b[0m kwds_defaults \u001b[39m=\u001b[39m _refine_defaults_read(\n\u001b[0;32m    936\u001b[0m     dialect,\n\u001b[0;32m    937\u001b[0m     delimiter,\n\u001b[1;32m   (...)\u001b[0m\n\u001b[0;32m    946\u001b[0m     defaults\u001b[39m=\u001b[39m{\u001b[39m\"\u001b[39m\u001b[39mdelimiter\u001b[39m\u001b[39m\"\u001b[39m: \u001b[39m\"\u001b[39m\u001b[39m,\u001b[39m\u001b[39m\"\u001b[39m},\n\u001b[0;32m    947\u001b[0m )\n\u001b[0;32m    948\u001b[0m kwds\u001b[39m.\u001b[39mupdate(kwds_defaults)\n\u001b[1;32m--> 950\u001b[0m \u001b[39mreturn\u001b[39;00m _read(filepath_or_buffer, kwds)\n",
      "File \u001b[1;32mc:\\Users\\Richie\\Documents\\Python\\.venv\\Lib\\site-packages\\pandas\\io\\parsers\\readers.py:605\u001b[0m, in \u001b[0;36m_read\u001b[1;34m(filepath_or_buffer, kwds)\u001b[0m\n\u001b[0;32m    602\u001b[0m _validate_names(kwds\u001b[39m.\u001b[39mget(\u001b[39m\"\u001b[39m\u001b[39mnames\u001b[39m\u001b[39m\"\u001b[39m, \u001b[39mNone\u001b[39;00m))\n\u001b[0;32m    604\u001b[0m \u001b[39m# Create the parser.\u001b[39;00m\n\u001b[1;32m--> 605\u001b[0m parser \u001b[39m=\u001b[39m TextFileReader(filepath_or_buffer, \u001b[39m*\u001b[39;49m\u001b[39m*\u001b[39;49mkwds)\n\u001b[0;32m    607\u001b[0m \u001b[39mif\u001b[39;00m chunksize \u001b[39mor\u001b[39;00m iterator:\n\u001b[0;32m    608\u001b[0m     \u001b[39mreturn\u001b[39;00m parser\n",
      "File \u001b[1;32mc:\\Users\\Richie\\Documents\\Python\\.venv\\Lib\\site-packages\\pandas\\io\\parsers\\readers.py:1442\u001b[0m, in \u001b[0;36mTextFileReader.__init__\u001b[1;34m(self, f, engine, **kwds)\u001b[0m\n\u001b[0;32m   1439\u001b[0m     \u001b[39mself\u001b[39m\u001b[39m.\u001b[39moptions[\u001b[39m\"\u001b[39m\u001b[39mhas_index_names\u001b[39m\u001b[39m\"\u001b[39m] \u001b[39m=\u001b[39m kwds[\u001b[39m\"\u001b[39m\u001b[39mhas_index_names\u001b[39m\u001b[39m\"\u001b[39m]\n\u001b[0;32m   1441\u001b[0m \u001b[39mself\u001b[39m\u001b[39m.\u001b[39mhandles: IOHandles \u001b[39m|\u001b[39m \u001b[39mNone\u001b[39;00m \u001b[39m=\u001b[39m \u001b[39mNone\u001b[39;00m\n\u001b[1;32m-> 1442\u001b[0m \u001b[39mself\u001b[39m\u001b[39m.\u001b[39m_engine \u001b[39m=\u001b[39m \u001b[39mself\u001b[39;49m\u001b[39m.\u001b[39;49m_make_engine(f, \u001b[39mself\u001b[39;49m\u001b[39m.\u001b[39;49mengine)\n",
      "File \u001b[1;32mc:\\Users\\Richie\\Documents\\Python\\.venv\\Lib\\site-packages\\pandas\\io\\parsers\\readers.py:1753\u001b[0m, in \u001b[0;36mTextFileReader._make_engine\u001b[1;34m(self, f, engine)\u001b[0m\n\u001b[0;32m   1750\u001b[0m     \u001b[39mraise\u001b[39;00m \u001b[39mValueError\u001b[39;00m(msg)\n\u001b[0;32m   1752\u001b[0m \u001b[39mtry\u001b[39;00m:\n\u001b[1;32m-> 1753\u001b[0m     \u001b[39mreturn\u001b[39;00m mapping[engine](f, \u001b[39m*\u001b[39;49m\u001b[39m*\u001b[39;49m\u001b[39mself\u001b[39;49m\u001b[39m.\u001b[39;49moptions)\n\u001b[0;32m   1754\u001b[0m \u001b[39mexcept\u001b[39;00m \u001b[39mException\u001b[39;00m:\n\u001b[0;32m   1755\u001b[0m     \u001b[39mif\u001b[39;00m \u001b[39mself\u001b[39m\u001b[39m.\u001b[39mhandles \u001b[39mis\u001b[39;00m \u001b[39mnot\u001b[39;00m \u001b[39mNone\u001b[39;00m:\n",
      "File \u001b[1;32mc:\\Users\\Richie\\Documents\\Python\\.venv\\Lib\\site-packages\\pandas\\io\\parsers\\c_parser_wrapper.py:79\u001b[0m, in \u001b[0;36mCParserWrapper.__init__\u001b[1;34m(self, src, **kwds)\u001b[0m\n\u001b[0;32m     76\u001b[0m     kwds\u001b[39m.\u001b[39mpop(key, \u001b[39mNone\u001b[39;00m)\n\u001b[0;32m     78\u001b[0m kwds[\u001b[39m\"\u001b[39m\u001b[39mdtype\u001b[39m\u001b[39m\"\u001b[39m] \u001b[39m=\u001b[39m ensure_dtype_objs(kwds\u001b[39m.\u001b[39mget(\u001b[39m\"\u001b[39m\u001b[39mdtype\u001b[39m\u001b[39m\"\u001b[39m, \u001b[39mNone\u001b[39;00m))\n\u001b[1;32m---> 79\u001b[0m \u001b[39mself\u001b[39m\u001b[39m.\u001b[39m_reader \u001b[39m=\u001b[39m parsers\u001b[39m.\u001b[39;49mTextReader(src, \u001b[39m*\u001b[39;49m\u001b[39m*\u001b[39;49mkwds)\n\u001b[0;32m     81\u001b[0m \u001b[39mself\u001b[39m\u001b[39m.\u001b[39munnamed_cols \u001b[39m=\u001b[39m \u001b[39mself\u001b[39m\u001b[39m.\u001b[39m_reader\u001b[39m.\u001b[39munnamed_cols\n\u001b[0;32m     83\u001b[0m \u001b[39m# error: Cannot determine type of 'names'\u001b[39;00m\n",
      "File \u001b[1;32mc:\\Users\\Richie\\Documents\\Python\\.venv\\Lib\\site-packages\\pandas\\_libs\\parsers.pyx:547\u001b[0m, in \u001b[0;36mpandas._libs.parsers.TextReader.__cinit__\u001b[1;34m()\u001b[0m\n",
      "File \u001b[1;32mc:\\Users\\Richie\\Documents\\Python\\.venv\\Lib\\site-packages\\pandas\\_libs\\parsers.pyx:636\u001b[0m, in \u001b[0;36mpandas._libs.parsers.TextReader._get_header\u001b[1;34m()\u001b[0m\n",
      "File \u001b[1;32mc:\\Users\\Richie\\Documents\\Python\\.venv\\Lib\\site-packages\\pandas\\_libs\\parsers.pyx:852\u001b[0m, in \u001b[0;36mpandas._libs.parsers.TextReader._tokenize_rows\u001b[1;34m()\u001b[0m\n",
      "File \u001b[1;32mc:\\Users\\Richie\\Documents\\Python\\.venv\\Lib\\site-packages\\pandas\\_libs\\parsers.pyx:1965\u001b[0m, in \u001b[0;36mpandas._libs.parsers.raise_parser_error\u001b[1;34m()\u001b[0m\n",
      "\u001b[1;31mUnicodeDecodeError\u001b[0m: 'utf-8' codec can't decode byte 0xc1 in position 16: invalid start byte"
     ]
    }
   ],
   "source": [
    "StockPrice_TWSE = pd.read_csv('Stock_TWSE.csv', header=[0,1], index_col=0)\n",
    "StockPrice_TPEx = pd.read_csv('Stock_TPEx.csv', header=[0,1], index_col=0)"
   ]
  },
  {
   "cell_type": "code",
   "execution_count": null,
   "metadata": {
    "colab": {
     "base_uri": "https://localhost:8080/"
    },
    "id": "i5_Sn8-cRNFD",
    "outputId": "7f6c3223-83c1-414a-dd81-d86be1ddd24c"
   },
   "outputs": [],
   "source": [
    "different_Tpex = None\n",
    "different_TWSE = None\n",
    "def Update_Stock_List():\n",
    "  global different_Tpex\n",
    "  global different_TWSE\n",
    "  Crawler_TPEx_List()\n",
    "  Crawler_TWSE_List()\n",
    "  if list(dict.fromkeys(StockPrice_TPEx.columns.get_level_values(0)[1:])) == list(TPEx_list.iloc[:,0]):\n",
    "    print('TPEx Pass')\n",
    "  else:\n",
    "    if (len(TPEx_list) > (len(dict.fromkeys(StockPrice_TPEx.columns.get_level_values(0)[1:]))-1)):\n",
    "        different_Tpex = set(TPEx_list.iloc[:,0]) - set(StockPrice_TPEx.columns.get_level_values(0)[1:])\n",
    "        different_Tpex = list(different_Tpex)\n",
    "        print(different_Tpex)\n",
    "        for i in range(0,len(different_Tpex)):\n",
    "            StockPrice_TPEx.insert(len(StockPrice_TPEx.columns), (different_Tpex[i], 'Close'), None)\n",
    "            StockPrice_TPEx.insert(len(StockPrice_TPEx.columns), (different_Tpex[i], 'Volume'), None)\n",
    "            StockPrice_TPEx.insert(len(StockPrice_TPEx.columns), (different_Tpex[i], 'Foundation'), None)\n",
    "            StockPrice_TPEx.insert(len(StockPrice_TPEx.columns), (different_Tpex[i], 'Yield'), None)\n",
    "            StockPrice_TPEx.sort_index(axis = 1, level=0, inplace=True, sort_remaining = False)\n",
    "            temp = StockPrice_TPEx.pop(('Date',       'Date'))\n",
    "            StockPrice_TPEx.insert(0, ('Date',       'Date'), temp)\n",
    "    else:\n",
    "        different_Tpex = set(StockPrice_TPEx.columns.get_level_values(0)[1:]) - set(TPEx_list.iloc[:,0])\n",
    "        different_Tpex = list(different_Tpex)\n",
    "        print(different_Tpex)\n",
    "        for i in range(0,len(different_Tpex)):\n",
    "            StockPrice_TPEx.drop(columns=[different_Tpex[i]], inplace=True)\n",
    "            \n",
    "  if list(dict.fromkeys(StockPrice_TWSE.columns.get_level_values(0)[1:])) == list(TWSE_list.iloc[:,0]):\n",
    "    print('TWSE Pass')\n",
    "  else:\n",
    "    if (len(TWSE_list) > (len(dict.fromkeys(StockPrice_TWSE.columns.get_level_values(0)[1:]))-1)):\n",
    "        different_TWSE = set(TWSE_list.iloc[:,0]) - set(StockPrice_TWSE.columns.get_level_values(0)[1:])\n",
    "        different_TWSE = list(different_TWSE)\n",
    "        print(different_TWSE)\n",
    "        for i in range(0,len(different_TWSE)):\n",
    "            StockPrice_TWSE.insert(len(StockPrice_TWSE.columns), (different_TWSE[i], 'Close'), None)\n",
    "            StockPrice_TWSE.insert(len(StockPrice_TWSE.columns), (different_TWSE[i], 'Volume'), None)\n",
    "            StockPrice_TWSE.insert(len(StockPrice_TWSE.columns), (different_TWSE[i], 'Foundation'), None)\n",
    "            StockPrice_TWSE.insert(len(StockPrice_TWSE.columns), (different_TWSE[i], 'Yield'), None)\n",
    "            StockPrice_TWSE.sort_index(axis = 1, level=0, inplace=True, sort_remaining = False)\n",
    "            temp = StockPrice_TWSE.pop(('Date',       'Date'))\n",
    "            StockPrice_TWSE.insert(0, ('Date',       'Date'), temp)\n",
    "    else:\n",
    "        different_TWSE = set(StockPrice_TWSE.columns.get_level_values(0)[1:]) - set(TWSE_list.iloc[:,0])\n",
    "        different_TWSE = list(different_TWSE)\n",
    "        print(different_TWSE)\n",
    "        for i in range(0,len(different_TWSE)):\n",
    "            StockPrice_TWSE.drop(columns=[different_TWSE[i]], inplace=True)"
   ]
  },
  {
   "cell_type": "code",
   "execution_count": null,
   "metadata": {
    "id": "O-waWgvB87Xb"
   },
   "outputs": [],
   "source": [
    "def crawler(datetime):\n",
    "    url = 'https://www.tpex.org.tw/web/stock/aftertrading/otc_quotes_no1430/stk_wn1430_result.php?l=zh-tw&o=csv&d='+ datetime +'&se=EW&s=0,asc,0'\n",
    "    page = requests.get(url)\n",
    "    use_text = page.text.splitlines()\n",
    "    for i,text in enumerate(use_text):\n",
    "        if '代號' in text:\n",
    "            initial_point = i\n",
    "            break\n",
    "    test_df = pd.read_csv(io.StringIO(''.join([text+ '\\n' for text in use_text[initial_point:]])))\n",
    "    for i in range(0,len(test_df)):\n",
    "        try:\n",
    "            if (len(test_df.loc[i,'代號']) != 4):\n",
    "                test_df.drop(i,inplace=True)\n",
    "        except TypeError:\n",
    "            if test_df.loc[i,'代號'] < 1200 and test_df.loc[i,'代號'] > 9999:\n",
    "                test_df.drop(i,inplace=True)\n",
    "    test_df = test_df[['代號', '收盤 ', '成交股數  ']]\n",
    "    return test_df\n",
    "\n",
    "def crawler_Foundation(datetime):\n",
    "    url = 'https://www.tpex.org.tw/web/stock/3insti/daily_trade/3itrade_hedge_result.php?l=zh-tw&o=csv&se=EW&t=D&d='+ datetime +'&s=0,asc'\n",
    "    page = requests.get(url)\n",
    "    use_text = page.text.splitlines()\n",
    "    for i,text in enumerate(use_text):\n",
    "        if '代號' in text:\n",
    "            initial_point = i\n",
    "            break\n",
    "    test_df = pd.read_csv(io.StringIO(''.join([text+ '\\n' for text in use_text[initial_point:]])))\n",
    "    if len(test_df) > 1:\n",
    "        for i in range(0,len(test_df)):\n",
    "            try:\n",
    "                if (len(test_df.loc[i,'代號']) != 4):\n",
    "                    test_df.drop(i,inplace=True)\n",
    "            except TypeError:\n",
    "                if test_df.loc[i,'代號'] < 1200 and test_df.loc[i,'代號'] > 9999:\n",
    "                    test_df.drop(i,inplace=True)\n",
    "        try:\n",
    "            test_df = test_df[['代號', '三大法人買賣超股數合計']]\n",
    "        except KeyError:\n",
    "            test_df = test_df[['代號', '三大法人買賣超股數']]\n",
    "        test_df.reset_index(drop=True,inplace=False)\n",
    "    else:\n",
    "        del test_df\n",
    "    return test_df\n",
    "\n",
    "def crawler_Yield(datetime):\n",
    "    url = 'https://www.tpex.org.tw/web/stock/aftertrading/peratio_analysis/pera_result.php?l=zh-tw&o=csv&charset=UTF-8&d='+datetime+'&c=&s=0,asc'\n",
    "    page = requests.get(url)\n",
    "    use_text = page.text.splitlines()\n",
    "    for i,text in enumerate(use_text):\n",
    "            if '股票代號' in text:\n",
    "                initial_point = i\n",
    "                break\n",
    "    test_df = pd.read_csv(io.StringIO(''.join([text+ '\\n' for text in use_text[initial_point:]])))\n",
    "    if (len(use_text) < 10):\n",
    "        del test_df\n",
    "    else:\n",
    "        test_df = test_df[['股票代號', '殖利率(%)']]\n",
    "        test_df = test_df.rename(columns={\"股票代號\": '代號'})\n",
    "    return test_df\n",
    "\n",
    "#Day_TPEx = []\n",
    "def trans_date(datetime):\n",
    "#    global Day_TPEx\n",
    "    d = datetime.day\n",
    "    m = datetime.month\n",
    "    y = datetime.year-1911\n",
    "    if m < 10:\n",
    "        if d < 10:\n",
    "            Day_TPEx = (str(y)+'/0'+str(m)+'/0'+str(d))\n",
    "        else:\n",
    "            Day_TPEx = (str(y)+'/0'+str(m)+'/'+str(d))\n",
    "    else:\n",
    "        if d < 10:\n",
    "            Day_TPEx = (str(y)+'/'+str(m)+'/0'+str(d))\n",
    "        else:\n",
    "            Day_TPEx = (str(y)+'/'+str(m)+'/'+str(d))\n",
    "            \n",
    "    return Day_TPEx\n",
    "\n",
    "Crawler_Price = pd.DataFrame()\n",
    "Crawler_Foundation = pd.DataFrame()\n",
    "Crawler_Yield = pd.DataFrame()\n",
    "def crawler_data(datetime):\n",
    "    try:\n",
    "        global Crawler_Price\n",
    "        global Crawler_Foundation\n",
    "        global Crawler_Yield\n",
    "        Crawler_Price = crawler(trans_date(datetime))\n",
    "        Crawler_Foundation = crawler_Foundation(trans_date(datetime))\n",
    "        Crawler_Yield = crawler_Yield(trans_date(datetime))\n",
    "        print('TPEx Crawler Successful')\n",
    "    except UnboundLocalError:\n",
    "        print('TPEx Crawler Fail')\n",
    "    except KeyError:\n",
    "        print('TPEx Crawler Fail')"
   ]
  },
  {
   "cell_type": "code",
   "execution_count": null,
   "metadata": {
    "id": "rMH0wbGQ9E8l"
   },
   "outputs": [],
   "source": [
    "def catch(datetime):\n",
    "    url = 'https://www.twse.com.tw/rwd/zh/afterTrading/MI_INDEX?date='+datetime+'&type=ALLBUT0999&response=json'\n",
    "    page = requests.get(url).text\n",
    "    json_data = json.loads(page)\n",
    "    Stock_data = json_data['tables'][8]['data']\n",
    "    test_df = pd.DataFrame(Stock_data, columns = [json_data['tables'][8]['fields']])\n",
    "    for i in range(0,len(test_df)):\n",
    "        if ((len(test_df.loc[i,'證券代號'][0])) != 4):\n",
    "            test_df.drop(i,inplace=True)\n",
    "        elif int(test_df.loc[i,'證券代號'][0]) < 1100 or int(test_df.loc[i,'證券代號'][0]) > 9999:\n",
    "            test_df.drop(i,inplace=True)\n",
    "    temp = test_df[['證券代號', '收盤價', '成交股數']]\n",
    "    test_df = pd.DataFrame(temp.values, columns = [temp.columns[0][0],temp.columns[1][0],temp.columns[2][0]])\n",
    "    return test_df\n",
    "\n",
    "def catch_Foundation(datetime):\n",
    "    url = 'https://www.twse.com.tw/rwd/zh/fund/T86?date='+datetime+'&selectType=ALLBUT0999&response=json'\n",
    "    page = requests.get(url).text\n",
    "    json_data = json.loads(page)\n",
    "    Stock_data = json_data['data']\n",
    "    test_df = pd.DataFrame(Stock_data, columns = [json_data['fields']])\n",
    "    for i in range(0,len(test_df)):\n",
    "        if ((len(test_df.loc[i,'證券代號'][0])) != 4):\n",
    "            test_df.drop(i,inplace=True)\n",
    "        elif int(test_df.loc[i,'證券代號'][0]) < 1100 or int(test_df.loc[i,'證券代號'][0]) > 9999:\n",
    "            test_df.drop(i,inplace=True)\n",
    "    temp = test_df[['證券代號', '三大法人買賣超股數']]\n",
    "    test_df = pd.DataFrame(temp.values, columns = [temp.columns[0][0],temp.columns[1][0]])\n",
    "    test_df.sort_values(by=['證券代號'], inplace=True)\n",
    "    test_df.reset_index(drop=True,inplace=True)\n",
    "    return test_df\n",
    "\n",
    "def catch_Yield(datetime):\n",
    "    url = 'https://www.twse.com.tw/rwd/zh/afterTrading/BWIBBU_d?date='+datetime+'&selectType=ALL&response=json'\n",
    "    page = requests.get(url).text\n",
    "    json_data = json.loads(page)\n",
    "    Stock_data = json_data['data']\n",
    "    test_df = pd.DataFrame(Stock_data, columns = [json_data['fields']])\n",
    "    temp = test_df[['證券代號', '殖利率(%)']]\n",
    "    test_df = pd.DataFrame(temp.values, columns = [temp.columns[0][0],temp.columns[1][0]])\n",
    "    return test_df\n",
    "    \n",
    "def catch_day(datetime):\n",
    "    d = datetime.day\n",
    "    m = datetime.month\n",
    "    y = datetime.year\n",
    "    if m < 10:\n",
    "        if d < 10:\n",
    "            Day_TWSE = str(y)+'0'+str(m)+'0'+str(d)\n",
    "        else:\n",
    "            Day_TWSE = str(y)+'0'+str(m)+str(d)\n",
    "    else:\n",
    "        if d < 10:\n",
    "            Day_TWSE = str(y)+str(m)+'0'+str(d)\n",
    "        else:\n",
    "            Day_TWSE = str(y)+str(m)+str(d)\n",
    "            \n",
    "    return Day_TWSE\n",
    "\n",
    "Catch_Price = pd.DataFrame()\n",
    "Catch_Foundation = pd.DataFrame()\n",
    "Catch_Yield = pd.DataFrame()\n",
    "def catch_data(datetime):\n",
    "    try:\n",
    "        global Catch_Price\n",
    "        global Catch_Foundation\n",
    "        global Catch_Yield\n",
    "        Catch_Price = catch(catch_day(datetime))\n",
    "        Catch_Foundation = catch_Foundation(catch_day(datetime))\n",
    "        Catch_Yield = catch_Yield(catch_day(datetime))\n",
    "        print('TWSE Crawler Successful')\n",
    "    except UnboundLocalError:\n",
    "        print('TWSE Crawler Fail')\n",
    "    except KeyError:\n",
    "        print('TWSE Crawler Fail')"
   ]
  },
  {
   "cell_type": "code",
   "execution_count": null,
   "metadata": {
    "id": "Kab_qcEol34y"
   },
   "outputs": [],
   "source": [
    "Crawler_Frame = pd.DataFrame()\n",
    "Catch_Frame = pd.DataFrame()\n",
    "def Get_New_Data(datetime):\n",
    "    start = 0\n",
    "    global Crawler_Frame\n",
    "    global Crawler_Price\n",
    "    global Crawler_Foundation\n",
    "    global Crawler_Yield\n",
    "    global Catch_Frame\n",
    "    global Catch_Price\n",
    "    global Catch_Foundation\n",
    "    global Catch_Yield\n",
    "    crawler_data(datetime)\n",
    "    Crawler_Frame = pd.concat([Crawler_Price.set_index('代號'), Crawler_Foundation.set_index('代號').reindex(Crawler_Price.set_index('代號').index), Crawler_Yield.set_index('代號').reindex(Crawler_Price.set_index('代號').index)], axis=1)\n",
    "    Crawler_Frame = Crawler_Frame.reset_index()\n",
    "    catch_data(datetime)\n",
    "    Catch_Frame = pd.concat([Catch_Price.set_index('證券代號'), Catch_Foundation.set_index('證券代號').reindex(Catch_Price.set_index('證券代號').index), Catch_Yield.set_index('證券代號').reindex(Catch_Price.set_index('證券代號').index)], axis=1)\n",
    "    Catch_Frame = Catch_Frame.reset_index()"
   ]
  },
  {
   "cell_type": "code",
   "execution_count": null,
   "metadata": {
    "id": "O7rkJwRircni"
   },
   "outputs": [],
   "source": [
    "def Time_transfer(datetime):\n",
    "  d = datetime.day\n",
    "  m = datetime.month\n",
    "  y = datetime.year\n",
    "  if m < 10:\n",
    "    if d < 10:\n",
    "      Time = str(y)+'-0'+str(m)+'-0'+str(d)\n",
    "    else:\n",
    "      Time = str(y)+'-0'+str(m)+'-'+str(d)\n",
    "  else:\n",
    "    if d < 10:\n",
    "      Time = str(y)+'-'+str(m)+'-0'+str(d)\n",
    "    else:\n",
    "      Time = str(y)+'-'+str(m)+'-'+str(d)\n",
    "  return Time"
   ]
  },
  {
   "cell_type": "code",
   "execution_count": null,
   "metadata": {
    "id": "-yf6SMyV9K1u"
   },
   "outputs": [],
   "source": [
    "def Update_Stock_Price(datetime):\n",
    "  temp = 0\n",
    "  try:\n",
    "    url = 'https://www.tpex.org.tw/web/stock/aftertrading/otc_quotes_no1430/stk_wn1430_result.php?l=zh-tw&o=csv&d='+trans_date(datetime)+'&se=EW&s=0,asc,0'\n",
    "    page = requests.get(url)\n",
    "    use_text = page.text.splitlines()\n",
    "    for i,text in enumerate(use_text):\n",
    "      if '代號' in text:\n",
    "        initial_point = i\n",
    "        break\n",
    "    test_df = pd.read_csv(io.StringIO(''.join([text+ '\\n' for text in use_text[initial_point:]])))\n",
    "  except NameError:\n",
    "    print('No New Trading Data')\n",
    "    temp = 1\n",
    "    \n",
    "#  global different_Tpex\n",
    "#  global different_TWSE\n",
    "#  Update_Stock_List()\n",
    "                            \n",
    "  if temp == 0:\n",
    "    Update_Stock_List()\n",
    "    Get_New_Data(datetime)\n",
    "    global StockPrice_TWSE\n",
    "    global StockPrice_TPEx\n",
    "    temp1 = 0\n",
    "    temp2 = 0\n",
    "    if StockPrice_TWSE.iloc[len(StockPrice_TWSE)-1,0] == Time_transfer(datetime):\n",
    "      print('TWSE Exists!')\n",
    "      temp1 = 1\n",
    "    else:\n",
    "      StockPrice_TWSE = StockPrice_TWSE.append({('Date',       'Date'):Time_transfer(datetime)}, ignore_index=True)\n",
    "    \n",
    "    if StockPrice_TPEx.iloc[len(StockPrice_TPEx)-1,0] == Time_transfer(datetime):\n",
    "      print('TPEx Exists!')\n",
    "      temp2 = 1\n",
    "    else:\n",
    "      StockPrice_TPEx = StockPrice_TPEx.append({('Date',       'Date'):Time_transfer(datetime)}, ignore_index=True)\n",
    "    \n",
    "    if temp2 == 0:\n",
    "      for i in range (0,len(Crawler_Frame)):\n",
    "        for j in range (1, len(list(StockPrice_TPEx)),4):\n",
    "          if (Crawler_Frame.loc[i,'代號'] == list(StockPrice_TPEx)[j][0]):\n",
    "            try:\n",
    "              StockPrice_TPEx.iloc[len(StockPrice_TPEx)-1,j] = float(Crawler_Frame.iloc[i,1])\n",
    "            except ValueError:\n",
    "              StockPrice_TPEx.iloc[len(StockPrice_TPEx)-1,j] = None\n",
    "            \n",
    "            try:\n",
    "              StockPrice_TPEx.iloc[len(StockPrice_TPEx)-1,j+1] = float(Crawler_Frame.iloc[i,2].replace(',',''))\n",
    "            except ValueError:\n",
    "              StockPrice_TPEx.iloc[len(StockPrice_TPEx)-1,j+1] = None\n",
    "            except AttributeError:\n",
    "              StockPrice_TPEx.iloc[len(StockPrice_TPEx)-1,j+1] = None\n",
    "            \n",
    "            try:\n",
    "              StockPrice_TPEx.iloc[len(StockPrice_TPEx)-1,j+2] = float(Crawler_Frame.iloc[i,3].replace(',',''))\n",
    "            except ValueError:              \n",
    "              StockPrice_TPEx.iloc[len(StockPrice_TPEx)-1,j+2] = None\n",
    "            except AttributeError:\n",
    "              StockPrice_TPEx.iloc[len(StockPrice_TPEx)-1,j+1] = None\n",
    "            \n",
    "            try:\n",
    "              StockPrice_TPEx.iloc[len(StockPrice_TPEx)-1,j+3] = float(Crawler_Frame.iloc[i,4])\n",
    "            except ValueError:\n",
    "              StockPrice_TPEx.iloc[len(StockPrice_TPEx)-1,j+3] = None\n",
    "    \n",
    "    if temp1 == 0:\n",
    "      for x in range (0,len(Catch_Frame)):\n",
    "        for y in range (1, len(list(StockPrice_TWSE)),4):\n",
    "          if (Catch_Frame.loc[x,'證券代號'] == list(StockPrice_TWSE)[y][0]):\n",
    "            try:\n",
    "              StockPrice_TWSE.iloc[len(StockPrice_TWSE)-1,y] = float(Catch_Frame.iloc[x,1])\n",
    "            except ValueError:\n",
    "              StockPrice_TWSE.iloc[len(StockPrice_TWSE)-1,y] = None\n",
    "            \n",
    "            try:\n",
    "              StockPrice_TWSE.iloc[len(StockPrice_TWSE)-1,y+1] = float(Catch_Frame.iloc[x,2].replace(',',''))\n",
    "            except ValueError:\n",
    "              StockPrice_TWSE.iloc[len(StockPrice_TWSE)-1,y+1] = None\n",
    "            except AttributeError:\n",
    "              StockPrice_TWSE.iloc[len(StockPrice_TWSE)-1,y+1] = None\n",
    "            \n",
    "            try:\n",
    "              StockPrice_TWSE.iloc[len(StockPrice_TWSE)-1,y+2] = float(Catch_Frame.iloc[x,3].replace(',',''))\n",
    "            except ValueError:              \n",
    "              StockPrice_TWSE.iloc[len(StockPrice_TWSE)-1,y+2] = None\n",
    "            except AttributeError:\n",
    "              StockPrice_TWSE.iloc[len(StockPrice_TWSE)-1,y+1] = None\n",
    "            \n",
    "            try:\n",
    "              StockPrice_TWSE.iloc[len(StockPrice_TWSE)-1,y+3] = float(Catch_Frame.iloc[x,4])\n",
    "            except ValueError:\n",
    "              StockPrice_TWSE.iloc[len(StockPrice_TWSE)-1,y+3] = None\n",
    "            \n",
    "    print('Finished!')  "
   ]
  },
  {
   "cell_type": "code",
   "execution_count": null,
   "metadata": {},
   "outputs": [],
   "source": [
    "Update_Stock_Price(datetime.datetime(2023, 3, 30, 10, 1, 55, 280233))"
   ]
  },
  {
   "cell_type": "code",
   "execution_count": null,
   "metadata": {
    "scrolled": true
   },
   "outputs": [],
   "source": [
    "StockPrice_TWSE"
   ]
  },
  {
   "cell_type": "code",
   "execution_count": null,
   "metadata": {
    "scrolled": true
   },
   "outputs": [],
   "source": [
    "StockPrice_TPEx"
   ]
  },
  {
   "cell_type": "code",
   "execution_count": 16,
   "metadata": {},
   "outputs": [],
   "source": [
    "StockPrice_TWSE.to_csv('Stock_TWSE.csv')\n",
    "StockPrice_TPEx.to_csv('Stock_TPEx.csv')"
   ]
  },
  {
   "cell_type": "code",
   "execution_count": null,
   "metadata": {
    "id": "3hrWB68y-D9p"
   },
   "outputs": [],
   "source": [
    "MA_TWSE = pd.DataFrame(index=['7MA', '14MA', '30MA', '60MA', '90MA', '180MA', '360MA', '720MA', '1080MA'],columns=StockPrice_TWSE.columns.get_level_values(0)[1:].drop_duplicates())\n",
    "MA_TWSE.index.name ='Moving Average'\n",
    "MA_TPEx = pd.DataFrame(index=['7MA', '14MA', '30MA', '60MA', '90MA', '180MA', '360MA', '720MA', '1080MA'],columns=StockPrice_TPEx.columns.get_level_values(0)[1:].drop_duplicates())\n",
    "MA_TPEx.index.name ='Moving Average'\n",
    "for i in range(0,len(MA_TWSE.columns)):\n",
    "    for j in range(0,len(MA_TWSE)):\n",
    "        MA_TWSE.iloc[j,i] = round(((StockPrice_TWSE.iloc[int('-' + MA_TWSE.index.str.extract('(\\d+)',expand=False)[j]):,i*4+1] * StockPrice_TWSE.iloc[int('-' + MA_TWSE.index.str.extract('(\\d+)',expand=False)[j]):,i*4+2])/(StockPrice_TWSE.iloc[int('-' + MA_TWSE.index.str.extract('(\\d+)',expand=False)[j]):,i*4+2].mean())).mean(), 2)\n",
    "    \n",
    "for i in range(0,len(MA_TPEx.columns)):\n",
    "    for j in range(0,len(MA_TPEx)):\n",
    "        MA_TPEx.iloc[j,i] = round(((StockPrice_TPEx.iloc[int('-' + MA_TPEx.index.str.extract('(\\d+)',expand=False)[j]):,i*4+1] * StockPrice_TPEx.iloc[int('-' + MA_TPEx.index.str.extract('(\\d+)',expand=False)[j]):,i*4+2])/(StockPrice_TPEx.iloc[int('-' + MA_TPEx.index.str.extract('(\\d+)',expand=False)[j]):,i*4+2].mean())).mean(), 2)"
   ]
  },
  {
   "cell_type": "code",
   "execution_count": null,
   "metadata": {
    "colab": {
     "base_uri": "https://localhost:8080/",
     "height": 518
    },
    "id": "a_kSqF-JRR__",
    "outputId": "253b5e6b-3a88-4f15-e9a2-f4a4b8b3b657"
   },
   "outputs": [],
   "source": [
    "MA_TWSE"
   ]
  },
  {
   "cell_type": "code",
   "execution_count": null,
   "metadata": {},
   "outputs": [],
   "source": [
    "MA_TPEx"
   ]
  },
  {
   "cell_type": "code",
   "execution_count": null,
   "metadata": {
    "id": "Ua-7ZSHkJk44"
   },
   "outputs": [],
   "source": [
    "temp = [['<7MA', '<14MA', '<30MA', '<60MA', '<90MA', '<180MA', '<360MA', '<720MA', '<1080MA'], ['>3', '>6', '>9']]\n",
    "Result_TWSE = pd.DataFrame(columns=pd.MultiIndex.from_product(temp))\n",
    "Result_TPEx = pd.DataFrame(columns=pd.MultiIndex.from_product(temp))\n",
    "def Judgment(condition):\n",
    "  global Result_TWSE\n",
    "  global Result_TPEx\n",
    "  if (condition == '7MA'):\n",
    "    x = 0\n",
    "  elif (condition == '14MA'):\n",
    "    x = 1\n",
    "  elif (condition == '30MA'):\n",
    "    x = 2\n",
    "  elif (condition == '60MA'):\n",
    "    x = 3\n",
    "  elif (condition == '90MA'):\n",
    "    x = 4\n",
    "  elif (condition == '180MA'):\n",
    "    x = 5\n",
    "  elif (condition == '360MA'):\n",
    "    x = 6\n",
    "  elif (condition == '720MA'):\n",
    "    x = 7\n",
    "  elif (condition == '1080MA'):\n",
    "    x = 8\n",
    "  Pass_0 = []\n",
    "  Pass_1 = []\n",
    "  Pass_2 = []\n",
    "  for i in range(0,len(list(MA_TWSE))):\n",
    "    if (MA_TWSE.iloc[x,i] > StockPrice_TWSE.iloc[-1,i*4+1]):\n",
    "        if ((StockPrice_TWSE.iloc[-1,i*4+4] >= 3) and (StockPrice_TWSE.iloc[-1,i*4+4] < 6)):\n",
    "            Pass_0.append(MA_TWSE.columns[i])\n",
    "        elif ((StockPrice_TWSE.iloc[-1,i*4+4] >= 6) and (StockPrice_TWSE.iloc[-1,i*4+4] < 9)):\n",
    "            Pass_1.append(MA_TWSE.columns[i])\n",
    "        elif ((StockPrice_TWSE.iloc[-1,i*4+4] >= 9)):\n",
    "            Pass_2.append(MA_TWSE.columns[i])\n",
    "  Result_TWSE.iloc[:,x*3] = pd.Series(Pass_0)\n",
    "  Result_TWSE.iloc[:,x*3+1] = pd.Series(Pass_1)\n",
    "  Result_TWSE.iloc[:,x*3+2] = pd.Series(Pass_2)\n",
    "  \n",
    "  Pass_0 = []\n",
    "  Pass_1 = []\n",
    "  Pass_2 = []\n",
    "  for i in range(0,len(list(MA_TPEx))):\n",
    "    if (MA_TPEx.iloc[x,i] > StockPrice_TPEx.iloc[-1,i*4+1]):\n",
    "        if ((StockPrice_TPEx.iloc[-1,i*4+4] >= 3) and (StockPrice_TPEx.iloc[-1,i*4+4] < 6)):\n",
    "            Pass_0.append(MA_TPEx.columns[i])\n",
    "        elif ((StockPrice_TPEx.iloc[-1,i*4+4] >= 6) and (StockPrice_TPEx.iloc[-1,i*4+4] < 9)):\n",
    "            Pass_1.append(MA_TPEx.columns[i])\n",
    "        elif ((StockPrice_TPEx.iloc[-1,i*4+4] >= 9)):\n",
    "            Pass_2.append(MA_TPEx.columns[i])\n",
    "  Result_TPEx.iloc[:,x*3] = pd.Series(Pass_0)\n",
    "  Result_TPEx.iloc[:,x*3+1] = pd.Series(Pass_1)\n",
    "  Result_TPEx.iloc[:,x*3+2] = pd.Series(Pass_2)"
   ]
  },
  {
   "cell_type": "code",
   "execution_count": null,
   "metadata": {
    "id": "PVJPmhioL3w-"
   },
   "outputs": [],
   "source": [
    "for i in range(0,len(MA_TWSE.index)):\n",
    "    Judgment(MA_TWSE.index[i])\n",
    "for i in range(0,len(MA_TPEx.index)):\n",
    "    Judgment(MA_TPEx.index[i])\n",
    "#Result_TWSE = Result_TWSE.reindex(sorted(Result_TWSE.columns), axis=1)\n",
    "#Result_TPEx = Result_TPEx.reindex(sorted(Result_TPEx.columns), axis=1)"
   ]
  },
  {
   "cell_type": "code",
   "execution_count": null,
   "metadata": {
    "colab": {
     "base_uri": "https://localhost:8080/",
     "height": 424
    },
    "id": "Qxi1OLEPZp3G",
    "outputId": "95d1a1cd-3feb-4164-836c-2907e1b5c177",
    "scrolled": true
   },
   "outputs": [],
   "source": [
    "Result_TWSE"
   ]
  },
  {
   "cell_type": "code",
   "execution_count": null,
   "metadata": {
    "scrolled": true
   },
   "outputs": [],
   "source": [
    "Result_TPEx"
   ]
  },
  {
   "cell_type": "code",
   "execution_count": null,
   "metadata": {},
   "outputs": [],
   "source": [
    "Result_TWSE.to_excel('Result_TWSE.xlsx')\n",
    "Result_TPEx.to_excel('Result_TPEx.xlsx')"
   ]
  },
  {
   "cell_type": "code",
   "execution_count": null,
   "metadata": {
    "scrolled": true
   },
   "outputs": [],
   "source": [
    "def highlight(series):\n",
    "    return ['color: red' if value > (series.mean()*3)\n",
    "            else 'color: orange' if value > (series.mean()*2)\n",
    "            else None for value in series]"
   ]
  },
  {
   "cell_type": "code",
   "execution_count": null,
   "metadata": {},
   "outputs": [],
   "source": [
    "Stock_TWSE_recentvolume = StockPrice_TWSE.xs('Volume', axis = 1, level = 1)[-14:]\n",
    "columns_volume = list(Stock_TWSE_recentvolume.columns)\n",
    "Stock_TWSE_recentvolume.style.apply(highlight, subset=columns_volume)"
   ]
  }
 ],
 "metadata": {
  "accelerator": "GPU",
  "colab": {
   "provenance": []
  },
  "gpuClass": "standard",
  "kernelspec": {
   "display_name": "Python 3 (ipykernel)",
   "language": "python",
   "name": "python3"
  },
  "language_info": {
   "codemirror_mode": {
    "name": "ipython",
    "version": 3
   },
   "file_extension": ".py",
   "mimetype": "text/x-python",
   "name": "python",
   "nbconvert_exporter": "python",
   "pygments_lexer": "ipython3",
   "version": "3.11.1"
  }
 },
 "nbformat": 4,
 "nbformat_minor": 1
}
